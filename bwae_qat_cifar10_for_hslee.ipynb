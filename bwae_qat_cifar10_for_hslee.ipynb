{
 "cells": [
  {
   "cell_type": "markdown",
   "metadata": {},
   "source": [
    "# CHECK IF QAT SUPPORTS  UpsizeBilinear2D"
   ]
  },
  {
   "cell_type": "markdown",
   "metadata": {},
   "source": [
    "# Install TF optimiazation if NOT INSTALLED!!!!!"
   ]
  },
  {
   "cell_type": "code",
   "execution_count": null,
   "metadata": {
    "ExecuteTime": {
     "end_time": "2023-03-19T08:11:39.848681Z",
     "start_time": "2023-03-19T08:11:39.846525Z"
    }
   },
   "outputs": [],
   "source": [
    "# !rm -rf model-optimization\n",
    "# !git clone https://github.com/tensorflow/model-optimization.git\n",
    "# %cd model-optimization\n",
    "# %pwd\n",
    "# !python setup.py build\n",
    "# !python setup.py install"
   ]
  },
  {
   "cell_type": "code",
   "execution_count": null,
   "metadata": {
    "ExecuteTime": {
     "end_time": "2023-03-19T08:11:39.853412Z",
     "start_time": "2023-03-19T08:11:39.850668Z"
    }
   },
   "outputs": [],
   "source": [
    "from IPython.display import clear_output\n",
    "clear_output(wait=False)"
   ]
  },
  {
   "cell_type": "code",
   "execution_count": null,
   "metadata": {
    "ExecuteTime": {
     "end_time": "2023-03-19T08:11:40.871907Z",
     "start_time": "2023-03-19T08:11:39.855393Z"
    }
   },
   "outputs": [],
   "source": [
    "!pip freeze | grep tensorflow"
   ]
  },
  {
   "cell_type": "code",
   "execution_count": null,
   "metadata": {
    "ExecuteTime": {
     "end_time": "2023-03-19T08:11:42.867114Z",
     "start_time": "2023-03-19T08:11:40.874449Z"
    }
   },
   "outputs": [],
   "source": [
    "import tensorflow_model_optimization as tfmot"
   ]
  },
  {
   "cell_type": "code",
   "execution_count": null,
   "metadata": {
    "ExecuteTime": {
     "end_time": "2023-03-19T08:11:44.671638Z",
     "start_time": "2023-03-19T08:11:42.869517Z"
    }
   },
   "outputs": [],
   "source": [
    "!pip check"
   ]
  },
  {
   "cell_type": "code",
   "execution_count": null,
   "metadata": {
    "ExecuteTime": {
     "end_time": "2023-03-19T08:11:44.677500Z",
     "start_time": "2023-03-19T08:11:44.673864Z"
    }
   },
   "outputs": [],
   "source": [
    "\n",
    "import tensorflow as tf\n",
    "from tensorflow.python.client import device_lib\n",
    "from tensorflow import keras\n",
    "import tensorflow_model_optimization as tfmot\n",
    "\n",
    "import os\n",
    "import glob\n",
    "import datetime\n",
    "import numpy as np\n",
    "\n",
    "from random import shuffle"
   ]
  },
  {
   "cell_type": "code",
   "execution_count": null,
   "metadata": {
    "ExecuteTime": {
     "end_time": "2023-03-19T08:11:44.689458Z",
     "start_time": "2023-03-19T08:11:44.679631Z"
    }
   },
   "outputs": [],
   "source": [
    "tf.__version__"
   ]
  },
  {
   "cell_type": "code",
   "execution_count": null,
   "metadata": {
    "ExecuteTime": {
     "end_time": "2023-03-19T08:11:44.696285Z",
     "start_time": "2023-03-19T08:11:44.692947Z"
    }
   },
   "outputs": [],
   "source": [
    "tf.keras.backend.image_data_format()"
   ]
  },
  {
   "cell_type": "code",
   "execution_count": null,
   "metadata": {
    "ExecuteTime": {
     "end_time": "2023-03-19T08:11:44.701113Z",
     "start_time": "2023-03-19T08:11:44.698745Z"
    }
   },
   "outputs": [],
   "source": [
    "print(tfmot)"
   ]
  },
  {
   "cell_type": "code",
   "execution_count": null,
   "metadata": {
    "ExecuteTime": {
     "end_time": "2023-03-19T08:11:44.704994Z",
     "start_time": "2023-03-19T08:11:44.702992Z"
    }
   },
   "outputs": [],
   "source": [
    "os.environ[\"CUDA_VISIBLE_DEVICES\"] = \"0\""
   ]
  },
  {
   "cell_type": "code",
   "execution_count": null,
   "metadata": {
    "ExecuteTime": {
     "end_time": "2023-03-19T08:11:45.578035Z",
     "start_time": "2023-03-19T08:11:44.706776Z"
    }
   },
   "outputs": [],
   "source": [
    "def get_available_gpus():\n",
    "    local_device_protos = device_lib.list_local_devices()\n",
    "    return [x.name for x in local_device_protos if x.device_type == 'GPU']\n",
    "\n",
    "NGPU = len(get_available_gpus())\n",
    "NGPU"
   ]
  },
  {
   "cell_type": "markdown",
   "metadata": {},
   "source": [
    "# Hyper Params"
   ]
  },
  {
   "cell_type": "code",
   "execution_count": null,
   "metadata": {
    "ExecuteTime": {
     "end_time": "2023-03-19T08:11:45.582276Z",
     "start_time": "2023-03-19T08:11:45.580022Z"
    }
   },
   "outputs": [],
   "source": [
    "BATCH_SIZE = 256\n",
    "EPOCHS = 1\n",
    "LEARNING_RATE = 1e-4\n",
    "INPUT_MAX = 1.0 # 255.0"
   ]
  },
  {
   "cell_type": "markdown",
   "metadata": {},
   "source": [
    "# for plot"
   ]
  },
  {
   "cell_type": "code",
   "execution_count": null,
   "metadata": {
    "ExecuteTime": {
     "end_time": "2023-03-19T08:11:46.232232Z",
     "start_time": "2023-03-19T08:11:45.584076Z"
    }
   },
   "outputs": [],
   "source": [
    "import matplotlib.pyplot as plt \n",
    "\n",
    "def plot_gt_and_predictions(model, test_images, is_plot=True):\n",
    "    predictions = model.predict(test_images[:16,...])\n",
    "    predictions = np.clip(predictions, 0, INPUT_MAX)\n",
    "    \n",
    "    if is_plot:\n",
    "        fig = plt.figure(figsize=(16, 16))\n",
    "        for i in range(predictions.shape[0]):\n",
    "            plt.subplot(4, 8, 2*i + 1)\n",
    "            plt.imshow(test_images[i, :, :, :] )\n",
    "            plt.axis('off')\n",
    "\n",
    "            plt.subplot(4, 8, 2*i + 2)\n",
    "            plt.imshow(predictions[i, :, :, :])\n",
    "            plt.axis('off')\n",
    "\n",
    "        plt.show()\n",
    "    \n",
    "    return predictions\n",
    "\n",
    "\n",
    "def plot_two_predictions(images1, images2):\n",
    "    images1 = np.clip(images1, 0, INPUT_MAX)\n",
    "    images2 = np.clip(images2, 0, INPUT_MAX)\n",
    "    \n",
    "     \n",
    "    fig = plt.figure(figsize=(16, 16))\n",
    "    for i in range(images1.shape[0]):\n",
    "        plt.subplot(4, 8, 2*i + 1)\n",
    "        plt.imshow(images1[i, :, :, :], vmin=0, vmax=INPUT_MAX )\n",
    "        plt.axis('off')\n",
    "        plt.subplot(4, 8, 2*i + 2)\n",
    "        plt.imshow(images2[i, :, :, :], vmin=0, vmax=INPUT_MAX)\n",
    "        plt.axis('off')\n",
    "\n",
    "    plt.show()\n",
    "    \n",
    "    return None\n",
    "\n",
    "\n",
    "def generate_and_save_images(model, epoch, test_images):\n",
    "    predictions = model.predict(test_images[:16,...])\n",
    "    predictions = np.clip(predictions, 0, INPUT_MAX)\n",
    "    \n",
    "     \n",
    "    fig = plt.figure(figsize=(16, 16))\n",
    "    for i in range(predictions.shape[0]):\n",
    "        plt.subplot(4, 8, 2*i + 1)\n",
    "        plt.imshow(test_images[i, :, :, :] , vmin=0, vmax=INPUT_MAX)\n",
    "        plt.axis('off')\n",
    "        \n",
    "        plt.subplot(4, 8, 2*i + 2)\n",
    "        plt.imshow(predictions[i, :, :, :], vmin=0, vmax=INPUT_MAX)\n",
    "        plt.axis('off')\n",
    "\n",
    "\n",
    " \n",
    "    plt.show()\n",
    "    \n",
    "    return predictions"
   ]
  },
  {
   "cell_type": "code",
   "execution_count": null,
   "metadata": {
    "ExecuteTime": {
     "end_time": "2023-03-19T08:11:46.245524Z",
     "start_time": "2023-03-19T08:11:46.234982Z"
    }
   },
   "outputs": [],
   "source": [
    "def plot_images(images):\n",
    "    images = images[:16,...]\n",
    "    images = np.clip(images, 0, INPUT_MAX)\n",
    "    \n",
    "     \n",
    "    fig = plt.figure(figsize=(8, 8))\n",
    "    for i in range(images.shape[0]):\n",
    "        plt.subplot(4, 4, i + 1)\n",
    "#         im = plt.imshow(images[i, :, :, :].astype(np.uint8))\n",
    "        im = plt.imshow(images[i, :, :, :])\n",
    "        plt.axis('off')\n",
    "  \n",
    "    plt.show()\n",
    "    \n",
    "    \n",
    "    \n",
    "    \n",
    "def plot_multi_images(images): # images: list\n",
    "    num_sets = len(images)\n",
    "    print('--------------num_Sets', num_sets)\n",
    "    \n",
    "    images = np.clip(images, 0, INPUT_MAX)\n",
    "    images = images*255\n",
    "    images = images.astype(np.uint8)\n",
    "     \n",
    "    fig, axes = plt.subplots(nrows=8, ncols=2*num_sets, figsize=(16, 16))\n",
    "    cnt=0\n",
    "    for ax in axes.flat:\n",
    "        \n",
    "        im = ax.imshow(images[cnt%num_sets][cnt//num_sets, :, :, :], vmin=0, vmax=255 )\n",
    "        \n",
    "        ax.set_xticks([])\n",
    "        ax.set_yticks([]) \n",
    "        cnt+=1\n",
    "#     fig.colorbar(im, ax=axes.ravel().tolist())\n",
    "\n",
    "    plt.show()\n",
    "    \n",
    "    \n",
    "    \n",
    "    \n",
    "def plot_images_with_color_bar(images):\n",
    "    images = images[:16,...]\n",
    "    images = np.clip(images, 0, INPUT_MAX)\n",
    "    images = images*255\n",
    "    images = images.astype(np.uint8)\n",
    "    \n",
    "    fig, axes = plt.subplots(nrows=4, ncols=4, figsize=(8, 8))\n",
    "    cnt=0\n",
    "    for ax in axes.flat:\n",
    "        im = ax.imshow(images[cnt, :, :, :], vmin=0, vmax=255, cmap='gray')\n",
    "        ax.set_xticks([])\n",
    "        ax.set_yticks([]) \n",
    "        \n",
    "        cnt+=1\n",
    "        \n",
    "    fig.colorbar(im, ax=axes.ravel().tolist())\n",
    "\n",
    "    plt.show()\n",
    "    \n",
    "    "
   ]
  },
  {
   "cell_type": "markdown",
   "metadata": {},
   "source": [
    "# Define model "
   ]
  },
  {
   "cell_type": "code",
   "execution_count": null,
   "metadata": {
    "ExecuteTime": {
     "end_time": "2023-03-19T08:11:46.255142Z",
     "start_time": "2023-03-19T08:11:46.247398Z"
    }
   },
   "outputs": [],
   "source": [
    "LastValueQuantizer = tfmot.quantization.keras.quantizers.LastValueQuantizer\n",
    "MovingAverageQuantizer = tfmot.quantization.keras.quantizers.MovingAverageQuantizer \n",
    "\n",
    "class DefaultDenseQuantizeConfig(tfmot.quantization.keras.QuantizeConfig):\n",
    "    # Configure how to quantize weights.\n",
    "    def get_weights_and_quantizers(self, layer):\n",
    "      return [(layer.kernel, LastValueQuantizer(num_bits=8, symmetric=True, narrow_range=False, per_axis=True))]\n",
    "\n",
    "    # Configure how to quantize activations.\n",
    "    def get_activations_and_quantizers(self, layer):\n",
    "      return [(layer.activation, MovingAverageQuantizer(num_bits=16, symmetric=False, narrow_range=False, per_axis=False))]\n",
    "\n",
    "    def set_quantize_weights(self, layer, quantize_weights):\n",
    "      # Add this line for each item returned in `get_weights_and_quantizers`\n",
    "      # , in the same order\n",
    "      layer.kernel = quantize_weights[0]\n",
    "\n",
    "    def set_quantize_activations(self, layer, quantize_activations):\n",
    "      # Add this line for each item returned in `get_activations_and_quantizers`\n",
    "      # , in the same order.\n",
    "      layer.activation = quantize_activations[0]\n",
    "\n",
    "    # Configure how to quantize outputs (may be equivalent to activations).\n",
    "#     def get_output_quantizers(self, layer):\n",
    "#       return []\n",
    "    def get_output_quantizers(self, layer):\n",
    "        return [MovingAverageQuantizer(\n",
    "            num_bits=8, per_axis=False, symmetric=False, narrow_range=False)]\n",
    "\n",
    "    def get_config(self):\n",
    "      return {}\n",
    "\n",
    "\n",
    "class ModifiedDenseQuantizeConfig(DefaultDenseQuantizeConfig):\n",
    "    def get_weights_and_quantizers(self, layer):\n",
    "        return []\n",
    "\n",
    "    def get_activations_and_quantizers(self, layer):\n",
    "        return []\n",
    "    \n",
    "    def set_quantize_weights(self, layer, quantize_weights):\n",
    "        return []\n",
    "\n",
    "    def set_quantize_activations(self, layer, quantize_activations):\n",
    "        return []\n",
    "    \n",
    "    # Configure weights to quantize with 4-bit instead of 8-bits.\n",
    "    def get_output_quantizers(self, layer):\n",
    "        return [MovingAverageQuantizer(\n",
    "            num_bits=8, per_axis=False, symmetric=False, narrow_range=False)]"
   ]
  },
  {
   "cell_type": "markdown",
   "metadata": {},
   "source": [
    "## define float model"
   ]
  },
  {
   "cell_type": "code",
   "execution_count": null,
   "metadata": {
    "ExecuteTime": {
     "end_time": "2023-03-19T08:11:46.266924Z",
     "start_time": "2023-03-19T08:11:46.256953Z"
    }
   },
   "outputs": [],
   "source": [
    "def get_model(name='bwae'):\n",
    "\n",
    "    ch1 = 64\n",
    "    ch2 = 128\n",
    "    ch3 = 256\n",
    "    ch4 = 256\n",
    "\n",
    "\n",
    "    ch1 = 16\n",
    "    ch2 = 32\n",
    "    ch3 = 64\n",
    "    ch4 = 128\n",
    "\n",
    "    connections = [True, True, True]\n",
    "    channels = [ch3, ch2, ch1]\n",
    "\n",
    "\n",
    "\n",
    "    iinput = tf.keras.layers.Input((32, 32, 3), name=\"input\")\n",
    "\n",
    "\n",
    "\n",
    "    x1 = tf.keras.layers.Conv2D(ch1, 3, strides=1, activation=\"relu\", padding=\"same\", name=\"enc1\" )(iinput)\n",
    "    x2 = tf.keras.layers.Conv2D(ch2, 3, strides=2, activation=\"relu\", padding=\"same\", name=\"enc2\" )(x1)\n",
    "    x3 = tf.keras.layers.Conv2D(ch3, 3, strides=2, activation=\"relu\", padding=\"same\", name=\"enc3\" )(x2)\n",
    "    x4 = tf.keras.layers.Conv2D(ch4, 3, strides=2, activation=\"relu\", padding=\"same\", name=\"enc4\" )(x3)\n",
    "    x = x4\n",
    "\n",
    "    lrsc = [x3, x2, x1]\n",
    "    for i in range(len(connections)):\n",
    "        namet = 'dec%d' %i\n",
    "        namec = 'dec%d_conv' % i\n",
    "        name_a = 'add%d' % i\n",
    "\n",
    "        activationt = None if connections[i] else \"relu\"\n",
    "\n",
    "        x = tf.keras.layers.Conv2DTranspose(channels[i], 3, strides=2, activation=activationt, padding=\"same\", name=namet)(x)\n",
    " \n",
    "\n",
    "\n",
    "        if connections[i]:\n",
    "            x = tf.keras.layers.Add(name=name_a)([x, lrsc[i] ])\n",
    "        x = tf.keras.layers.Conv2D(ch3, 3, strides=1, padding=\"same\", name=namec, activation=\"relu\")(x)\n",
    "\n",
    "\n",
    "\n",
    "\n",
    "    x = tf.keras.layers.Conv2D(3, 3, strides=1, activation=\"relu\", padding=\"same\", name=\"last_conv\")(x)\n",
    "\n",
    "\n",
    "    model = tf.keras.models.Model(iinput, x, name=name)\n",
    "    \n",
    "    return model\n"
   ]
  },
  {
   "cell_type": "code",
   "execution_count": null,
   "metadata": {
    "ExecuteTime": {
     "end_time": "2023-03-19T08:11:47.448703Z",
     "start_time": "2023-03-19T08:11:46.268720Z"
    },
    "scrolled": false
   },
   "outputs": [],
   "source": [
    "model = get_model()\n",
    "\n",
    "\n",
    "model.save('bwae.h5')\n",
    "model.summary()\n",
    "tf.keras.utils.plot_model(model, show_shapes=True, dpi=64)"
   ]
  },
  {
   "cell_type": "markdown",
   "metadata": {},
   "source": [
    "# Load CIFAR10"
   ]
  },
  {
   "cell_type": "code",
   "execution_count": null,
   "metadata": {
    "ExecuteTime": {
     "end_time": "2023-03-19T08:11:48.941520Z",
     "start_time": "2023-03-19T08:11:47.451363Z"
    }
   },
   "outputs": [],
   "source": [
    "cifar10 = keras.datasets.cifar10\n",
    "\n",
    "(train_images, train_labels), (test_images, test_labels) = cifar10.load_data()\n",
    "\n",
    "train_images = (train_images / 255.0) * INPUT_MAX\n",
    "test_images = (test_images / 255.0) * INPUT_MAX\n",
    "\n",
    "print(type(train_images[0,0,0,0]))\n",
    "\n",
    "train_images = train_images.astype(np.float32)\n",
    "test_images = test_images.astype(np.float32)\n",
    "print(type(train_images[0,0,0,0]))\n"
   ]
  },
  {
   "cell_type": "code",
   "execution_count": null,
   "metadata": {
    "ExecuteTime": {
     "end_time": "2023-03-19T08:11:48.967302Z",
     "start_time": "2023-03-19T08:11:48.943713Z"
    }
   },
   "outputs": [],
   "source": [
    "print(np.amin(test_images),np.amax(test_images))"
   ]
  },
  {
   "cell_type": "code",
   "execution_count": null,
   "metadata": {
    "ExecuteTime": {
     "end_time": "2023-03-19T08:11:49.277508Z",
     "start_time": "2023-03-19T08:11:48.969043Z"
    }
   },
   "outputs": [],
   "source": [
    "plt.subplot(141)\n",
    "plt.imshow(train_images[0], interpolation=\"bicubic\") \n",
    "plt.grid(False)\n",
    "plt.subplot(142)\n",
    "plt.imshow(train_images[4], interpolation=\"bicubic\")\n",
    "plt.grid(False)\n",
    "plt.subplot(143)\n",
    "plt.imshow(train_images[8], interpolation=\"bicubic\")\n",
    "plt.grid(False)\n",
    "plt.subplot(144)\n",
    "plt.imshow(train_images[12], interpolation=\"bicubic\")\n",
    "plt.grid(False)\n",
    "plt.show()"
   ]
  },
  {
   "cell_type": "markdown",
   "metadata": {},
   "source": [
    "# FLOAT MODEL"
   ]
  },
  {
   "cell_type": "markdown",
   "metadata": {},
   "source": [
    "## before training float model"
   ]
  },
  {
   "cell_type": "code",
   "execution_count": null,
   "metadata": {
    "ExecuteTime": {
     "end_time": "2023-03-19T08:11:52.169858Z",
     "start_time": "2023-03-19T08:11:49.279426Z"
    }
   },
   "outputs": [],
   "source": [
    "before = plot_gt_and_predictions(model, test_images[:16,...])"
   ]
  },
  {
   "cell_type": "markdown",
   "metadata": {},
   "source": [
    "## train float model"
   ]
  },
  {
   "cell_type": "code",
   "execution_count": null,
   "metadata": {
    "ExecuteTime": {
     "end_time": "2023-03-19T08:11:59.639251Z",
     "start_time": "2023-03-19T08:11:52.171556Z"
    }
   },
   "outputs": [],
   "source": [
    "optimizer_f = tf.keras.optimizers.Adam(learning_rate=LEARNING_RATE, name='Adam_f')\n",
    "model.compile(optimizer=optimizer_f, loss=[\"mse\"])\n",
    "\n",
    "history = model.fit(train_images, \n",
    "                    train_images,  \n",
    "                    batch_size=BATCH_SIZE, \n",
    "                    epochs=EPOCHS, \n",
    "                    validation_data=(test_images, test_images))\n",
    "\n",
    "model.save('bwae_1.h5')\n"
   ]
  },
  {
   "cell_type": "markdown",
   "metadata": {},
   "source": [
    "## plot the float model"
   ]
  },
  {
   "cell_type": "code",
   "execution_count": null,
   "metadata": {
    "ExecuteTime": {
     "end_time": "2023-03-19T08:12:00.464004Z",
     "start_time": "2023-03-19T08:11:59.646201Z"
    }
   },
   "outputs": [],
   "source": [
    "predictions_float = plot_gt_and_predictions(model, test_images[:16,...])"
   ]
  },
  {
   "cell_type": "markdown",
   "metadata": {},
   "source": [
    "# MAKE QUANTIZED MODEL"
   ]
  },
  {
   "cell_type": "code",
   "execution_count": null,
   "metadata": {
    "ExecuteTime": {
     "end_time": "2023-03-19T08:12:00.479594Z",
     "start_time": "2023-03-19T08:12:00.467665Z"
    }
   },
   "outputs": [],
   "source": [
    "def get_Q_model(name='bwae_q'):\n",
    "    quantize_annotate_layer = tfmot.quantization.keras.quantize_annotate_layer\n",
    "\n",
    "\n",
    "\n",
    "    input = tf.keras.layers.Input((32, 32, 3), name=\"input\")\n",
    "\n",
    "\n",
    "#     model_quant = False\n",
    "#     # model_quant = True\n",
    "\n",
    "#     # quant_tconv = False\n",
    "    quant_tconv = True\n",
    "\n",
    "\n",
    "    ch1 = 64\n",
    "    ch2 = 128\n",
    "    ch3 = 256\n",
    "    ch4 = 256\n",
    "\n",
    "\n",
    "    ch1 = 16\n",
    "    ch2 = 32\n",
    "    ch3 = 64\n",
    "    ch4 = 128\n",
    "\n",
    "    connections = [True, True, True]\n",
    "    channels = [ch3, ch2, ch1]\n",
    "\n",
    "\n",
    "\n",
    "    x1 = quantize_annotate_layer(tf.keras.layers.Conv2D(ch1, 3, strides=1, activation=\"relu\", padding=\"same\", name=\"enc1\" ),\n",
    "                                       DefaultDenseQuantizeConfig())(input)\n",
    "    x2 = quantize_annotate_layer(tf.keras.layers.Conv2D(ch2, 3, strides=2, activation=\"relu\", padding=\"same\", name=\"enc2\" ),\n",
    "                                       DefaultDenseQuantizeConfig())(x1)\n",
    "    x3 = quantize_annotate_layer(tf.keras.layers.Conv2D(ch3, 3, strides=2, activation=\"relu\", padding=\"same\", name=\"enc3\" ),\n",
    "                                       DefaultDenseQuantizeConfig())(x2)\n",
    "    x4 = quantize_annotate_layer(tf.keras.layers.Conv2D(ch4, 3, strides=2, activation=\"relu\", padding=\"same\", name=\"enc4\" ),\n",
    "                                       DefaultDenseQuantizeConfig())(x3)\n",
    "    x = x4\n",
    "\n",
    "    lrsc = [x3, x2, x1]\n",
    "    for i in range(len(connections)):\n",
    "        namet = 'dec%d' %i\n",
    "        namec = 'dec%d_conv' % i\n",
    "        name_a = 'add%d' % i\n",
    "\n",
    "        activationt = None if connections[i] else \"relu\"\n",
    "        if quant_tconv:\n",
    "            x = quantize_annotate_layer(\n",
    "                    tf.keras.layers.Conv2DTranspose(channels[i], 3, strides=2, activation=activationt, padding=\"same\", name=namet),\n",
    "                    DefaultDenseQuantizeConfig())(x)\n",
    "        else:\n",
    "            x = tf.keras.layers.Conv2DTranspose(channels[i], 3, strides=2, activation=activationt, padding=\"same\", name=namet)(x)\n",
    "        if connections[i]:\n",
    "            x = quantize_annotate_layer(tf.keras.layers.Add(name=name_a), ModifiedDenseQuantizeConfig())([x, lrsc[i] ])\n",
    "\n",
    "        x = quantize_annotate_layer(tf.keras.layers.Conv2D(ch3, 3, strides=1, padding=\"same\", name=namec, activation=\"relu\"),\n",
    "                                       DefaultDenseQuantizeConfig())(x)\n",
    "\n",
    "\n",
    "\n",
    "\n",
    "\n",
    "    x = quantize_annotate_layer(tf.keras.layers.Conv2D(3, 3, strides=1, activation=\"relu\", padding=\"same\", name=\"last_conv\"),\n",
    "                                       DefaultDenseQuantizeConfig())(x)\n",
    "\n",
    "    model = tf.keras.models.Model(input, x, name=name)\n",
    "    \n",
    "    return model"
   ]
  },
  {
   "cell_type": "code",
   "execution_count": null,
   "metadata": {
    "ExecuteTime": {
     "end_time": "2023-03-19T08:12:01.273880Z",
     "start_time": "2023-03-19T08:12:00.481708Z"
    },
    "scrolled": false
   },
   "outputs": [],
   "source": [
    "model_q = get_Q_model()\n",
    "model_q.load_weights('bwae.h5')\n",
    "model_q.save('bwae_1_q.h5')\n",
    "model_q.summary()\n",
    "tf.keras.utils.plot_model(model_q, show_shapes=True, dpi=64)"
   ]
  },
  {
   "cell_type": "markdown",
   "metadata": {},
   "source": [
    "## plot the quantized model"
   ]
  },
  {
   "cell_type": "code",
   "execution_count": null,
   "metadata": {
    "ExecuteTime": {
     "end_time": "2023-03-19T08:12:02.415725Z",
     "start_time": "2023-03-19T08:12:01.276368Z"
    },
    "scrolled": false
   },
   "outputs": [],
   "source": [
    "predictions_qa = plot_gt_and_predictions(model_q, test_images[:16,...])"
   ]
  },
  {
   "cell_type": "markdown",
   "metadata": {},
   "source": [
    "## make quantized model"
   ]
  },
  {
   "cell_type": "code",
   "execution_count": null,
   "metadata": {
    "ExecuteTime": {
     "end_time": "2023-03-19T08:12:05.314526Z",
     "start_time": "2023-03-19T08:12:02.417780Z"
    },
    "scrolled": false
   },
   "outputs": [],
   "source": [
    "import tensorflow_model_optimization as tfmot\n",
    "\n",
    "quantize_model   = tfmot.quantization.keras.quantize_model\n",
    "quantize_scope = tfmot.quantization.keras.quantize_scope\n",
    "quantize_annotate_model = tfmot.quantization.keras.quantize_annotate_model\n",
    "\n",
    "# q_aware stands for for quantization aware.\n",
    " \n",
    " \n",
    "with quantize_scope( {'DefaultDenseQuantizeConfig': DefaultDenseQuantizeConfig,\n",
    "                     'ModifiedDenseQuantizeConfig': ModifiedDenseQuantizeConfig} ):\n",
    "    q_aware_model = tfmot.quantization.keras.quantize_apply(model_q)\n",
    "    \n",
    "\n",
    "q_aware_model.summary()\n",
    "\n",
    "tf.keras.utils.plot_model(q_aware_model, show_shapes=True, dpi=64)"
   ]
  },
  {
   "cell_type": "markdown",
   "metadata": {},
   "source": [
    "# Train Q Awarre model"
   ]
  },
  {
   "cell_type": "code",
   "execution_count": null,
   "metadata": {
    "ExecuteTime": {
     "end_time": "2023-03-19T08:12:18.984553Z",
     "start_time": "2023-03-19T08:12:05.317237Z"
    }
   },
   "outputs": [],
   "source": [
    "    \n",
    "optimizer_q = tf.keras.optimizers.Adam(learning_rate=LEARNING_RATE, name='Adam_f')\n",
    "q_aware_model.compile(optimizer=optimizer_q, loss=[\"mse\"])\n",
    "\n",
    "history = q_aware_model.fit(train_images,\n",
    "                            train_images,\n",
    "                            batch_size=BATCH_SIZE,\n",
    "                            epochs=EPOCHS,\n",
    "                            validation_data=(test_images, test_images))\n",
    "\n",
    "q_aware_model.save('bwae_1_qat.h5')"
   ]
  },
  {
   "cell_type": "markdown",
   "metadata": {},
   "source": [
    "# Plot -QAT"
   ]
  },
  {
   "cell_type": "code",
   "execution_count": null,
   "metadata": {
    "ExecuteTime": {
     "end_time": "2023-03-19T08:12:20.097644Z",
     "start_time": "2023-03-19T08:12:18.987175Z"
    }
   },
   "outputs": [],
   "source": [
    "predictions_qat = plot_gt_and_predictions(q_aware_model, test_images[:16,...])\n",
    "# predictions_qat = generate_and_save_images(q_aware_model, 0, train_images[:16,...])\n",
    "print(predictions_qat.shape)\n",
    "print(np.amin(predictions_qat), np.amax(predictions_qat))"
   ]
  },
  {
   "cell_type": "markdown",
   "metadata": {},
   "source": [
    "# Tflite Convert - float"
   ]
  },
  {
   "cell_type": "code",
   "execution_count": null,
   "metadata": {
    "ExecuteTime": {
     "end_time": "2023-03-19T08:12:23.404266Z",
     "start_time": "2023-03-19T08:12:20.099737Z"
    }
   },
   "outputs": [],
   "source": [
    "input_name = model.input_names[0]\n",
    "index = model.input_names.index(input_name)\n",
    "model.inputs[index].set_shape([1, 32, 32, 3])\n",
    "\n",
    "converter = tf.lite.TFLiteConverter.from_keras_model(model) \n",
    "tflite_float_model = converter.convert()\n",
    "fname = \"bwae_1.tflite\"\n",
    "open(fname, 'wb').write(tflite_float_model)"
   ]
  },
  {
   "cell_type": "markdown",
   "metadata": {},
   "source": [
    "# Tflite Convert - qat"
   ]
  },
  {
   "cell_type": "code",
   "execution_count": null,
   "metadata": {
    "ExecuteTime": {
     "end_time": "2023-03-19T08:12:30.005951Z",
     "start_time": "2023-03-19T08:12:23.406455Z"
    },
    "scrolled": false
   },
   "outputs": [],
   "source": [
    "input_name = q_aware_model.input_names[0]\n",
    "index = q_aware_model.input_names.index(input_name)\n",
    "q_aware_model.inputs[index].set_shape([1, 32, 32, 3])\n",
    " \n",
    "\n",
    "converter = tf.lite.TFLiteConverter.from_keras_model(q_aware_model) \n",
    "# converter.optimizations = [tf.lite.Optimize.DEFAULT]\n",
    "tflite_qat_model = converter.convert()\n",
    "fname = \"bwae_1_qat.tflite\"\n",
    "open(fname, 'wb').write(tflite_qat_model)"
   ]
  },
  {
   "cell_type": "markdown",
   "metadata": {},
   "source": [
    "# Diff: Float vs QAT"
   ]
  },
  {
   "cell_type": "code",
   "execution_count": null,
   "metadata": {
    "ExecuteTime": {
     "end_time": "2023-03-19T08:12:30.022835Z",
     "start_time": "2023-03-19T08:16:38.602Z"
    }
   },
   "outputs": [],
   "source": [
    "diff = predictions_float - predictions_qat\n",
    "abs_diff = np.abs(diff)\n",
    "abs_diff = np.sum(abs_diff, axis=-1)\n",
    "abs_diff = abs_diff[..., np.newaxis]\n",
    "\n",
    "plot_images_with_color_bar(abs_diff)\n",
    "plot_two_predictions(predictions_float, predictions_qat)\n",
    "# plot_images(abs_diff)\n"
   ]
  },
  {
   "cell_type": "code",
   "execution_count": null,
   "metadata": {
    "ExecuteTime": {
     "end_time": "2023-03-19T08:12:30.024144Z",
     "start_time": "2023-03-19T08:16:38.603Z"
    }
   },
   "outputs": [],
   "source": [
    "plot_multi_images([test_images[:16,...], predictions_float, predictions_qat])"
   ]
  },
  {
   "cell_type": "markdown",
   "metadata": {},
   "source": [
    "# REtrain"
   ]
  },
  {
   "cell_type": "code",
   "execution_count": null,
   "metadata": {
    "ExecuteTime": {
     "end_time": "2023-03-19T08:12:30.025403Z",
     "start_time": "2023-03-19T08:16:38.604Z"
    }
   },
   "outputs": [],
   "source": [
    "# tfmot.quantization.keras.QuantizeConfig\n",
    "\n",
    "# if model_quant:\n",
    "#     with tfmot.quantization.keras.quantize_scope({'DefaultDenseQuantizeConfig': DefaultDenseQuantizeConfig}):\n",
    "#         qmodel = tf.keras.models.load_model('bwae_qat.h5')    \n",
    "# #     with tfmot.quantization.keras.quantize_scope({'Default8BitConvTransposeQuantizeConfig': tfmot.quantization.keras.DefaultDenseQuantizeConfig}):\n",
    "# #         qmodel = tf.keras.models.load_model('bwae_qat.h5')    \n",
    "\n",
    "    \n",
    "# else:\n",
    "with tfmot.quantization.keras.quantize_scope({'DefaultDenseQuantizeConfig': DefaultDenseQuantizeConfig,\n",
    "                         'ModifiedDenseQuantizeConfig': ModifiedDenseQuantizeConfig}):\n",
    "    qmodel = tf.keras.models.load_model('bwae_1_qat.h5')\n",
    "    \n",
    "optimizer_r = tf.keras.optimizers.Adam(learning_rate=LEARNING_RATE, name='Adam_f')\n",
    "qmodel.compile(optimizer=optimizer_r, loss=[\"mse\"])\n",
    "\n",
    "history = qmodel.fit(train_images, \n",
    "                     train_images,  \n",
    "                     batch_size=BATCH_SIZE, \n",
    "                     epochs=EPOCHS, \n",
    "                     validation_data=(test_images, test_images))\n",
    "\n",
    "qmodel.save('bwae_1_qat2.h5', include_optimizer=False)"
   ]
  },
  {
   "cell_type": "markdown",
   "metadata": {},
   "source": [
    "# Prediction of REtrained QAT\n"
   ]
  },
  {
   "cell_type": "code",
   "execution_count": null,
   "metadata": {
    "ExecuteTime": {
     "end_time": "2023-03-19T08:12:30.026531Z",
     "start_time": "2023-03-19T08:16:38.605Z"
    }
   },
   "outputs": [],
   "source": [
    "predictions_qat2 = plot_gt_and_predictions(qmodel, test_images[:16,...], False)"
   ]
  },
  {
   "cell_type": "code",
   "execution_count": null,
   "metadata": {
    "ExecuteTime": {
     "end_time": "2023-03-19T08:12:30.027607Z",
     "start_time": "2023-03-19T08:16:38.606Z"
    }
   },
   "outputs": [],
   "source": [
    "plot_multi_images([test_images[:16,...], predictions_float, predictions_qat, predictions_qat2])"
   ]
  },
  {
   "cell_type": "markdown",
   "metadata": {},
   "source": [
    "# Save REtrained weights"
   ]
  },
  {
   "cell_type": "code",
   "execution_count": null,
   "metadata": {
    "ExecuteTime": {
     "end_time": "2023-03-19T08:12:30.028606Z",
     "start_time": "2023-03-19T08:16:38.607Z"
    }
   },
   "outputs": [],
   "source": [
    "input_name = model.input_names[0]\n",
    "index = model.input_names.index(input_name)\n",
    "qmodel.inputs[index].set_shape([1, 32, 32, 3])\n",
    "\n",
    "\n",
    "converter = tf.lite.TFLiteConverter.from_keras_model(qmodel) \n",
    "# converter.optimizations = [tf.lite.Optimize.DEFAULT]\n",
    "tflite_qmodel = converter.convert()\n",
    "fname = \"bwae_1_qat2.tflite\"\n",
    "open(fname, 'wb').write(tflite_qmodel)"
   ]
  },
  {
   "cell_type": "code",
   "execution_count": null,
   "metadata": {},
   "outputs": [],
   "source": []
  },
  {
   "cell_type": "code",
   "execution_count": null,
   "metadata": {},
   "outputs": [],
   "source": []
  },
  {
   "cell_type": "code",
   "execution_count": null,
   "metadata": {},
   "outputs": [],
   "source": []
  },
  {
   "cell_type": "code",
   "execution_count": null,
   "metadata": {},
   "outputs": [],
   "source": []
  },
  {
   "cell_type": "code",
   "execution_count": null,
   "metadata": {},
   "outputs": [],
   "source": []
  },
  {
   "cell_type": "code",
   "execution_count": null,
   "metadata": {},
   "outputs": [],
   "source": []
  }
 ],
 "metadata": {
  "kernelspec": {
   "display_name": "Python 3",
   "language": "python",
   "name": "python3"
  },
  "language_info": {
   "codemirror_mode": {
    "name": "ipython",
    "version": 3
   },
   "file_extension": ".py",
   "mimetype": "text/x-python",
   "name": "python",
   "nbconvert_exporter": "python",
   "pygments_lexer": "ipython3",
   "version": "3.8.10"
  },
  "varInspector": {
   "cols": {
    "lenName": 16,
    "lenType": 16,
    "lenVar": 40
   },
   "kernels_config": {
    "python": {
     "delete_cmd_postfix": "",
     "delete_cmd_prefix": "del ",
     "library": "var_list.py",
     "varRefreshCmd": "print(var_dic_list())"
    },
    "r": {
     "delete_cmd_postfix": ") ",
     "delete_cmd_prefix": "rm(",
     "library": "var_list.r",
     "varRefreshCmd": "cat(var_dic_list()) "
    }
   },
   "oldHeight": 592,
   "position": {
    "height": "614px",
    "left": "1546px",
    "right": "20px",
    "top": "117px",
    "width": "366px"
   },
   "types_to_exclude": [
    "module",
    "function",
    "builtin_function_or_method",
    "instance",
    "_Feature"
   ],
   "varInspector_section_display": "block",
   "window_display": true
  }
 },
 "nbformat": 4,
 "nbformat_minor": 2
}
