{
 "cells": [
  {
   "cell_type": "markdown",
   "metadata": {},
   "source": [
    "# CHECK IF QAT SUPPORTS  UpsizeBilinear2D"
   ]
  },
  {
   "cell_type": "markdown",
   "metadata": {},
   "source": [
    "# Install TF optimiazation if NOT INSTALLED!!!!!"
   ]
  },
  {
   "cell_type": "code",
   "execution_count": null,
   "metadata": {
    "ExecuteTime": {
     "end_time": "2023-02-22T11:50:04.549072Z",
     "start_time": "2023-02-22T11:50:04.546845Z"
    }
   },
   "outputs": [],
   "source": [
    "# !rm -rf model-optimization\n",
    "# !git clone https://github.com/tensorflow/model-optimization.git\n",
    "# %cd model-optimization\n",
    "# %pwd\n",
    "# !python setup.py build\n",
    "# !python setup.py install"
   ]
  },
  {
   "cell_type": "code",
   "execution_count": null,
   "metadata": {
    "ExecuteTime": {
     "end_time": "2023-02-22T11:50:06.517000Z",
     "start_time": "2023-02-22T11:50:04.550927Z"
    }
   },
   "outputs": [],
   "source": [
    "!pip install tensorflow-model-optimization"
   ]
  },
  {
   "cell_type": "code",
   "execution_count": null,
   "metadata": {
    "ExecuteTime": {
     "end_time": "2023-02-22T11:50:07.688873Z",
     "start_time": "2023-02-22T11:50:06.519580Z"
    },
    "scrolled": true
   },
   "outputs": [],
   "source": [
    "!pip list | grep tensorflow"
   ]
  },
  {
   "cell_type": "code",
   "execution_count": null,
   "metadata": {
    "ExecuteTime": {
     "end_time": "2023-02-22T11:50:09.793825Z",
     "start_time": "2023-02-22T11:50:07.691097Z"
    }
   },
   "outputs": [],
   "source": [
    "import tensorflow_model_optimization as tfmot"
   ]
  },
  {
   "cell_type": "code",
   "execution_count": null,
   "metadata": {
    "ExecuteTime": {
     "end_time": "2023-02-22T11:50:11.633907Z",
     "start_time": "2023-02-22T11:50:09.796279Z"
    }
   },
   "outputs": [],
   "source": [
    "!pip check"
   ]
  },
  {
   "cell_type": "code",
   "execution_count": null,
   "metadata": {
    "ExecuteTime": {
     "end_time": "2023-02-22T11:50:11.639132Z",
     "start_time": "2023-02-22T11:50:11.636051Z"
    }
   },
   "outputs": [],
   "source": [
    "\n",
    "import os\n",
    "import numpy as np\n",
    "import glob\n",
    "import datetime\n",
    "from random import shuffle\n",
    "\n",
    "\n",
    "import tensorflow as tf\n",
    "from tensorflow.python.client import device_lib\n",
    "from tensorflow import keras\n",
    "import tensorflow_model_optimization as tfmot # <------------------------------------------- this is the key\n",
    "\n"
   ]
  },
  {
   "cell_type": "code",
   "execution_count": null,
   "metadata": {
    "ExecuteTime": {
     "end_time": "2023-02-22T11:50:11.648983Z",
     "start_time": "2023-02-22T11:50:11.644744Z"
    }
   },
   "outputs": [],
   "source": [
    "os.environ[\"CUDA_VISIBLE_DEVICES\"]=\"0\""
   ]
  },
  {
   "cell_type": "code",
   "execution_count": null,
   "metadata": {
    "ExecuteTime": {
     "end_time": "2023-02-22T11:50:11.662950Z",
     "start_time": "2023-02-22T11:50:11.652827Z"
    }
   },
   "outputs": [],
   "source": [
    "tf.__version__"
   ]
  },
  {
   "cell_type": "code",
   "execution_count": null,
   "metadata": {
    "ExecuteTime": {
     "end_time": "2023-02-22T11:50:11.668708Z",
     "start_time": "2023-02-22T11:50:11.665315Z"
    }
   },
   "outputs": [],
   "source": [
    "tf.keras.backend.image_data_format()"
   ]
  },
  {
   "cell_type": "code",
   "execution_count": null,
   "metadata": {
    "ExecuteTime": {
     "end_time": "2023-02-22T11:50:11.673142Z",
     "start_time": "2023-02-22T11:50:11.670382Z"
    }
   },
   "outputs": [],
   "source": [
    "print(tfmot)"
   ]
  },
  {
   "cell_type": "code",
   "execution_count": null,
   "metadata": {
    "ExecuteTime": {
     "end_time": "2023-02-22T11:50:12.657616Z",
     "start_time": "2023-02-22T11:50:11.675062Z"
    }
   },
   "outputs": [],
   "source": [
    "def get_available_gpus():\n",
    "    local_device_protos = device_lib.list_local_devices()\n",
    "    return [x.name for x in local_device_protos if x.device_type == 'GPU']\n",
    "\n",
    "NGPU = len(get_available_gpus())\n",
    "NGPU"
   ]
  },
  {
   "cell_type": "markdown",
   "metadata": {},
   "source": [
    "# Hyper Params"
   ]
  },
  {
   "cell_type": "code",
   "execution_count": null,
   "metadata": {
    "ExecuteTime": {
     "end_time": "2023-02-22T11:50:12.661811Z",
     "start_time": "2023-02-22T11:50:12.659549Z"
    }
   },
   "outputs": [],
   "source": [
    "BATCH_SIZE = 256\n",
    "EPOCHS = 1\n",
    "LEARNING_RATE = 1e-4\n",
    "INPUT_MAX = 1.0 # 255.0"
   ]
  },
  {
   "cell_type": "markdown",
   "metadata": {},
   "source": [
    "# for plot"
   ]
  },
  {
   "cell_type": "code",
   "execution_count": null,
   "metadata": {
    "ExecuteTime": {
     "end_time": "2023-02-22T11:50:13.300237Z",
     "start_time": "2023-02-22T11:50:12.663574Z"
    }
   },
   "outputs": [],
   "source": [
    "import matplotlib.pyplot as plt\n",
    " \n",
    "def plot_gt_and_predictions(model, test_images, is_plot=True):\n",
    "    predictions = model.predict(test_images[:16,...])\n",
    "    predictions = np.clip(predictions, 0, INPUT_MAX)\n",
    "    \n",
    "    if is_plot:\n",
    "        fig = plt.figure(figsize=(16, 16))\n",
    "        for i in range(predictions.shape[0]):\n",
    "            plt.subplot(4, 8, 2*i + 1)\n",
    "            plt.imshow(test_images[i, :, :, :] )\n",
    "            plt.axis('off')\n",
    "\n",
    "            plt.subplot(4, 8, 2*i + 2)\n",
    "            plt.imshow(predictions[i, :, :, :])\n",
    "            plt.axis('off')\n",
    "\n",
    "\n",
    "\n",
    "        plt.show()\n",
    "    \n",
    "    return predictions\n",
    "\n",
    "\n",
    "def plot_two_predictions(images1, images2):\n",
    "    images1 = np.clip(images1, 0, INPUT_MAX)\n",
    "    images2 = np.clip(images2, 0, INPUT_MAX)\n",
    "    \n",
    "     \n",
    "    fig = plt.figure(figsize=(16, 16))\n",
    "    for i in range(images1.shape[0]):\n",
    "        plt.subplot(4, 8, 2*i + 1)\n",
    "        plt.imshow(images1[i, :, :, :], vmin=0, vmax=INPUT_MAX )\n",
    "        plt.axis('off')\n",
    "        plt.subplot(4, 8, 2*i + 2)\n",
    "        plt.imshow(images2[i, :, :, :], vmin=0, vmax=INPUT_MAX)\n",
    "        plt.axis('off')\n",
    "\n",
    "\n",
    " \n",
    "    plt.show()\n",
    "    \n",
    "    return None\n",
    "\n",
    "\n",
    "\n",
    "\n",
    "\n",
    "\n",
    "\n",
    "def generate_and_save_images(model, epoch, test_images):\n",
    "    predictions = model.predict(test_images[:16,...])\n",
    "    predictions = np.clip(predictions, 0, INPUT_MAX)\n",
    "    \n",
    "     \n",
    "    fig = plt.figure(figsize=(16, 16))\n",
    "    for i in range(predictions.shape[0]):\n",
    "        plt.subplot(4, 8, 2*i + 1)\n",
    "        plt.imshow(test_images[i, :, :, :] , vmin=0, vmax=INPUT_MAX)\n",
    "        plt.axis('off')\n",
    "        \n",
    "        plt.subplot(4, 8, 2*i + 2)\n",
    "        plt.imshow(predictions[i, :, :, :], vmin=0, vmax=INPUT_MAX)\n",
    "        plt.axis('off')\n",
    "\n",
    "\n",
    " \n",
    "    plt.show()\n",
    "    \n",
    "    return predictions"
   ]
  },
  {
   "cell_type": "code",
   "execution_count": null,
   "metadata": {
    "ExecuteTime": {
     "end_time": "2023-02-22T11:50:13.312279Z",
     "start_time": "2023-02-22T11:50:13.302203Z"
    }
   },
   "outputs": [],
   "source": [
    "def plot_images(images):\n",
    "    images = images[:16,...]\n",
    "    images = np.clip(images, 0, INPUT_MAX)\n",
    "    \n",
    "     \n",
    "    fig = plt.figure(figsize=(8, 8))\n",
    "    for i in range(images.shape[0]):\n",
    "        plt.subplot(4, 4, i + 1)\n",
    "#         im = plt.imshow(images[i, :, :, :].astype(np.uint8))\n",
    "        im = plt.imshow(images[i, :, :, :])\n",
    "        plt.axis('off')\n",
    "  \n",
    "    plt.show()\n",
    "    \n",
    "    \n",
    "    \n",
    "    \n",
    "def plot_multi_images(images): # images: list\n",
    "    num_sets = len(images)\n",
    "    print('--------------num_Sets', num_sets)\n",
    "    \n",
    "    images = np.clip(images, 0, INPUT_MAX)\n",
    "    images = images*255\n",
    "    images = images.astype(np.uint8)\n",
    "     \n",
    "    fig, axes = plt.subplots(nrows=8, ncols=2*num_sets, figsize=(16, 16))\n",
    "    cnt=0\n",
    "    for ax in axes.flat:\n",
    "        \n",
    "        im = ax.imshow(images[cnt%num_sets][cnt//num_sets, :, :, :], vmin=0, vmax=255 )\n",
    "        \n",
    "        ax.set_xticks([])\n",
    "        ax.set_yticks([]) \n",
    "        cnt+=1\n",
    "#     fig.colorbar(im, ax=axes.ravel().tolist())\n",
    "\n",
    "    plt.show()\n",
    "    \n",
    "    \n",
    "    \n",
    "    \n",
    "def plot_images_with_color_bar(images):\n",
    "    images = images[:16,...]\n",
    "    images = np.clip(images, 0, INPUT_MAX)\n",
    "    images = images*255\n",
    "    images = images.astype(np.uint8)\n",
    "    \n",
    "    fig, axes = plt.subplots(nrows=4, ncols=4, figsize=(8, 8))\n",
    "    cnt=0\n",
    "    for ax in axes.flat:\n",
    "        im = ax.imshow(images[cnt, :, :, :], vmin=0, vmax=255, cmap='gray')\n",
    "        ax.set_xticks([])\n",
    "        ax.set_yticks([]) \n",
    "        \n",
    "        cnt+=1\n",
    "        \n",
    "    fig.colorbar(im, ax=axes.ravel().tolist())\n",
    "\n",
    "    plt.show()\n",
    "    \n",
    "    "
   ]
  },
  {
   "cell_type": "markdown",
   "metadata": {},
   "source": [
    "# Define model "
   ]
  },
  {
   "cell_type": "code",
   "execution_count": null,
   "metadata": {
    "ExecuteTime": {
     "end_time": "2023-02-22T11:50:13.323420Z",
     "start_time": "2023-02-22T11:50:13.314258Z"
    },
    "scrolled": false
   },
   "outputs": [],
   "source": [
    "\n",
    "def get_model(name='bwae'):\n",
    "\n",
    "    ch1 = 64\n",
    "    ch2 = 128\n",
    "    ch3 = 256\n",
    "    ch4 = 256\n",
    "\n",
    "\n",
    "    ch1 = 16\n",
    "    ch2 = 32\n",
    "    ch3 = 64\n",
    "    ch4 = 128\n",
    "\n",
    "    connections = [True, True, True]\n",
    "    channels = [ch3, ch2, ch1]\n",
    "\n",
    "\n",
    "\n",
    "    iinput = tf.keras.layers.Input((32, 32, 3), name=\"input\")\n",
    "\n",
    "\n",
    "\n",
    "    x1 = tf.keras.layers.Conv2D(ch1, 3, strides=1, activation=\"relu\", padding=\"same\", name=\"enc1\" )(iinput)\n",
    "    x2 = tf.keras.layers.Conv2D(ch2, 3, strides=2, activation=\"relu\", padding=\"same\", name=\"enc2\" )(x1)\n",
    "    x3 = tf.keras.layers.Conv2D(ch3, 3, strides=2, activation=\"relu\", padding=\"same\", name=\"enc3\" )(x2)\n",
    "    x4 = tf.keras.layers.Conv2D(ch4, 3, strides=2, activation=\"relu\", padding=\"same\", name=\"enc4\" )(x3)\n",
    "    x = x4\n",
    "\n",
    "    lrsc = [x3, x2, x1]\n",
    "    for i in range(len(connections)):\n",
    "        namet = 'dec%d' %i\n",
    "        namec = 'dec%d_conv' % i\n",
    "        name_a = 'add%d' % i\n",
    "\n",
    "        activationt = None if connections[i] else \"relu\"\n",
    "\n",
    "        x = tf.keras.layers.Conv2DTranspose(channels[i], 3, strides=2, activation=activationt, padding=\"same\", name=namet)(x)\n",
    " \n",
    "\n",
    "\n",
    "        if connections[i]:\n",
    "            x = tf.keras.layers.Add(name=name_a)([x, lrsc[i] ])\n",
    "        x = tf.keras.layers.Conv2D(ch3, 3, strides=1, padding=\"same\", name=namec, activation=\"relu\")(x)\n",
    "\n",
    "\n",
    "\n",
    "\n",
    "    x = tf.keras.layers.Conv2D(3, 3, strides=1, activation=\"relu\", padding=\"same\", name=\"last_conv\")(x)\n",
    "\n",
    "\n",
    "    model = tf.keras.models.Model(iinput, x, name=name)\n",
    "    \n",
    "    return model\n",
    "\n",
    "\n",
    "\n",
    "\n"
   ]
  },
  {
   "cell_type": "code",
   "execution_count": null,
   "metadata": {
    "ExecuteTime": {
     "end_time": "2023-02-22T11:50:14.563281Z",
     "start_time": "2023-02-22T11:50:13.325331Z"
    },
    "scrolled": false
   },
   "outputs": [],
   "source": [
    "model = get_model()\n",
    "\n",
    "\n",
    "model.save('bwae.h5')\n",
    "model.summary()\n",
    "tf.keras.utils.plot_model(model, show_shapes=True, dpi=64)\n"
   ]
  },
  {
   "cell_type": "markdown",
   "metadata": {},
   "source": [
    "# Load CIFAR10"
   ]
  },
  {
   "cell_type": "code",
   "execution_count": null,
   "metadata": {
    "ExecuteTime": {
     "end_time": "2023-02-22T11:50:16.087868Z",
     "start_time": "2023-02-22T11:50:14.565575Z"
    }
   },
   "outputs": [],
   "source": [
    "cifar10 = keras.datasets.cifar10\n",
    "\n",
    "(train_images, train_labels), (test_images, test_labels) = cifar10.load_data()\n",
    "\n",
    "train_images = (train_images / 255.0) * INPUT_MAX\n",
    "test_images = (test_images / 255.0) * INPUT_MAX\n",
    "\n",
    "print(type(train_images[0,0,0,0]))\n",
    "\n",
    "train_images = train_images.astype(np.float32)\n",
    "test_images = test_images.astype(np.float32)\n",
    "print(type(train_images[0,0,0,0]))\n"
   ]
  },
  {
   "cell_type": "code",
   "execution_count": null,
   "metadata": {
    "ExecuteTime": {
     "end_time": "2023-02-22T11:50:16.114143Z",
     "start_time": "2023-02-22T11:50:16.090496Z"
    }
   },
   "outputs": [],
   "source": [
    "print(np.amin(test_images),np.amax(test_images))"
   ]
  },
  {
   "cell_type": "code",
   "execution_count": null,
   "metadata": {
    "ExecuteTime": {
     "end_time": "2023-02-22T11:50:16.429845Z",
     "start_time": "2023-02-22T11:50:16.115920Z"
    },
    "scrolled": true
   },
   "outputs": [],
   "source": [
    "plt.subplot(141)\n",
    "plt.imshow(train_images[0], interpolation=\"bicubic\") \n",
    "plt.grid(False)\n",
    "plt.subplot(142)\n",
    "plt.imshow(train_images[4], interpolation=\"bicubic\")\n",
    "plt.grid(False)\n",
    "plt.subplot(143)\n",
    "plt.imshow(train_images[8], interpolation=\"bicubic\")\n",
    "plt.grid(False)\n",
    "plt.subplot(144)\n",
    "plt.imshow(train_images[12], interpolation=\"bicubic\")\n",
    "plt.grid(False)\n",
    "plt.show()"
   ]
  },
  {
   "cell_type": "markdown",
   "metadata": {},
   "source": [
    "# before traning"
   ]
  },
  {
   "cell_type": "code",
   "execution_count": null,
   "metadata": {
    "ExecuteTime": {
     "end_time": "2023-02-22T11:50:19.360434Z",
     "start_time": "2023-02-22T11:50:16.431835Z"
    },
    "scrolled": false
   },
   "outputs": [],
   "source": [
    "before = plot_gt_and_predictions(model, test_images[:16,...])"
   ]
  },
  {
   "cell_type": "markdown",
   "metadata": {},
   "source": [
    "# Train - float"
   ]
  },
  {
   "cell_type": "code",
   "execution_count": null,
   "metadata": {
    "ExecuteTime": {
     "end_time": "2023-02-22T11:50:26.677125Z",
     "start_time": "2023-02-22T11:50:19.362529Z"
    }
   },
   "outputs": [],
   "source": [
    "optimizer_f = tf.keras.optimizers.Adam(learning_rate=LEARNING_RATE, name='Adam_f')\n",
    "model.compile(optimizer=optimizer_f, loss=[\"mse\"])\n",
    "\n",
    "history = model.fit(train_images, \n",
    "                    train_images,  \n",
    "                    batch_size=BATCH_SIZE, \n",
    "                    epochs=EPOCHS, \n",
    "                    validation_data=(test_images, test_images))\n",
    "\n",
    "model.save('bwae.h5')\n",
    "\n"
   ]
  },
  {
   "cell_type": "markdown",
   "metadata": {},
   "source": [
    "# Plot Float Model"
   ]
  },
  {
   "cell_type": "code",
   "execution_count": null,
   "metadata": {
    "ExecuteTime": {
     "end_time": "2023-02-22T11:50:27.499896Z",
     "start_time": "2023-02-22T11:50:26.679269Z"
    },
    "scrolled": false
   },
   "outputs": [],
   "source": [
    "predictions_float = plot_gt_and_predictions(model, test_images[:16,...])"
   ]
  },
  {
   "cell_type": "markdown",
   "metadata": {},
   "source": [
    "# Make Quantized Model"
   ]
  },
  {
   "cell_type": "code",
   "execution_count": null,
   "metadata": {
    "ExecuteTime": {
     "end_time": "2023-02-22T11:50:31.158693Z",
     "start_time": "2023-02-22T11:50:27.506123Z"
    },
    "scrolled": false
   },
   "outputs": [],
   "source": [
    "# import tensorflow_model_optimization as tfmot # <---------------------------------------- remember?\n",
    "\n",
    "base_model = get_model('bwae_quant')\n",
    "\n",
    "base_model.load_weights('bwae.h5')\n",
    "\n",
    "quant_aware_model = tfmot.quantization.keras.quantize_model(base_model)\n",
    "quant_aware_model.save('bwae_qat_before_train.h5')\n",
    "quant_aware_model.summary()\n",
    "\n",
    "tf.keras.utils.plot_model(quant_aware_model, show_shapes=True, dpi=64)\n",
    "\n",
    "\n",
    "\n"
   ]
  },
  {
   "cell_type": "markdown",
   "metadata": {},
   "source": [
    "# Train Q Awarre model"
   ]
  },
  {
   "cell_type": "code",
   "execution_count": null,
   "metadata": {
    "ExecuteTime": {
     "end_time": "2023-02-22T11:50:42.328738Z",
     "start_time": "2023-02-22T11:50:31.163116Z"
    }
   },
   "outputs": [],
   "source": [
    "optimizer_q = tf.keras.optimizers.Adam(learning_rate=LEARNING_RATE, name='Adam_f')\n",
    "quant_aware_model.compile(optimizer=optimizer_q, loss=[\"mse\"])\n",
    "\n",
    "history = quant_aware_model.fit(train_images, \n",
    "                            train_images,  \n",
    "                            batch_size=BATCH_SIZE, \n",
    "                            epochs=EPOCHS, \n",
    "                            validation_data=(test_images, test_images))\n",
    "\n",
    "quant_aware_model.save('bwae_qat_after_train.h5')"
   ]
  },
  {
   "cell_type": "markdown",
   "metadata": {},
   "source": [
    "# Plot -QAT"
   ]
  },
  {
   "cell_type": "code",
   "execution_count": null,
   "metadata": {
    "ExecuteTime": {
     "end_time": "2023-02-22T11:50:43.695390Z",
     "start_time": "2023-02-22T11:50:42.331307Z"
    }
   },
   "outputs": [],
   "source": [
    "predictions_qat = plot_gt_and_predictions(quant_aware_model, test_images[:16,...])\n",
    "# predictions_qat = generate_and_save_images(q_aware_model, 0, train_images[:16,...])\n",
    "print(predictions_qat.shape)\n",
    "print(np.amin(predictions_qat), np.amax(predictions_qat))"
   ]
  },
  {
   "cell_type": "markdown",
   "metadata": {},
   "source": [
    "# Tflite Convert - float"
   ]
  },
  {
   "cell_type": "code",
   "execution_count": null,
   "metadata": {
    "ExecuteTime": {
     "end_time": "2023-02-22T11:50:46.836500Z",
     "start_time": "2023-02-22T11:50:43.698046Z"
    }
   },
   "outputs": [],
   "source": [
    "input_name = model.input_names[0]\n",
    "index = model.input_names.index(input_name)\n",
    "model.inputs[index].set_shape([1, 32, 32, 3])\n",
    "\n",
    "converter = tf.lite.TFLiteConverter.from_keras_model(model) \n",
    "tflite_float_model = converter.convert()\n",
    "fname = \"bwae.tflite\"\n",
    "open(fname, 'wb').write(tflite_float_model)"
   ]
  },
  {
   "cell_type": "markdown",
   "metadata": {},
   "source": [
    "# Tflite Convert - qat"
   ]
  },
  {
   "cell_type": "code",
   "execution_count": null,
   "metadata": {
    "ExecuteTime": {
     "end_time": "2023-02-22T11:50:50.975146Z",
     "start_time": "2023-02-22T11:50:46.838532Z"
    },
    "scrolled": false
   },
   "outputs": [],
   "source": [
    "input_name = quant_aware_model.input_names[0]\n",
    "index = quant_aware_model.input_names.index(input_name)\n",
    "quant_aware_model.inputs[index].set_shape([1, 32, 32, 3])\n",
    " \n",
    "\n",
    "converter = tf.lite.TFLiteConverter.from_keras_model(quant_aware_model) \n",
    "converter.optimizations = [tf.lite.Optimize.DEFAULT]\n",
    "tflite_qat_model = converter.convert()\n",
    "fname = \"bwae_qat.tflite\"\n",
    "open(fname, 'wb').write(tflite_qat_model)"
   ]
  },
  {
   "cell_type": "markdown",
   "metadata": {},
   "source": [
    "# Diff: Float vs QAT"
   ]
  },
  {
   "cell_type": "code",
   "execution_count": null,
   "metadata": {
    "ExecuteTime": {
     "end_time": "2023-02-22T11:50:52.372185Z",
     "start_time": "2023-02-22T11:50:50.977450Z"
    }
   },
   "outputs": [],
   "source": [
    "diff = predictions_float - predictions_qat\n",
    "abs_diff = np.abs(diff)\n",
    "abs_diff = np.sum(abs_diff, axis=-1)\n",
    "abs_diff = abs_diff[..., np.newaxis]\n",
    "\n",
    "plot_images_with_color_bar(abs_diff)\n",
    "plot_two_predictions(predictions_float, predictions_qat)\n",
    "# plot_images(abs_diff)\n"
   ]
  },
  {
   "cell_type": "code",
   "execution_count": null,
   "metadata": {
    "ExecuteTime": {
     "end_time": "2023-02-22T11:50:53.815176Z",
     "start_time": "2023-02-22T11:50:52.374068Z"
    }
   },
   "outputs": [],
   "source": [
    "plot_multi_images([test_images[:16,...], predictions_float, predictions_qat])"
   ]
  },
  {
   "cell_type": "markdown",
   "metadata": {},
   "source": [
    "# REtrain"
   ]
  },
  {
   "cell_type": "code",
   "execution_count": null,
   "metadata": {
    "ExecuteTime": {
     "end_time": "2023-02-22T11:50:55.289124Z",
     "start_time": "2023-02-22T11:50:53.817071Z"
    },
    "scrolled": false
   },
   "outputs": [],
   "source": [
    "base_model = get_model('bwae_quant_retrain')\n",
    "# base_model.load_weights('bwae_qat_after_train.h5') # <---------- NOT here\n",
    "\n",
    "\n",
    "qmodel = tfmot.quantization.keras.quantize_model(base_model)\n",
    "qmodel.load_weights('bwae_qat_after_train.h5') # <---------- here\n",
    "qmodel.save('bwae_qat_before_retrain.h5')\n",
    "qmodel.summary()\n",
    "\n",
    "tf.keras.utils.plot_model(qmodel, show_shapes=True, dpi=64)"
   ]
  },
  {
   "cell_type": "code",
   "execution_count": null,
   "metadata": {
    "ExecuteTime": {
     "end_time": "2023-02-22T11:51:06.708087Z",
     "start_time": "2023-02-22T11:50:55.291317Z"
    }
   },
   "outputs": [],
   "source": [
    "    \n",
    "optimizer_r = tf.keras.optimizers.Adam(learning_rate=LEARNING_RATE, name='Adam_f')\n",
    "qmodel.compile(optimizer=optimizer_r, loss=[\"mse\"])\n",
    "\n",
    "history = qmodel.fit(train_images, \n",
    "                     train_images,  \n",
    "                     batch_size=BATCH_SIZE, \n",
    "                     epochs=EPOCHS, \n",
    "                     validation_data=(test_images, test_images))\n",
    "\n",
    "qmodel.save('bwae_qat2.h5', include_optimizer=False)"
   ]
  },
  {
   "cell_type": "markdown",
   "metadata": {},
   "source": [
    "# Save REtrained weights"
   ]
  },
  {
   "cell_type": "code",
   "execution_count": null,
   "metadata": {
    "ExecuteTime": {
     "end_time": "2023-02-22T11:51:06.713104Z",
     "start_time": "2023-02-22T11:51:06.710453Z"
    }
   },
   "outputs": [],
   "source": [
    "# input_name = model.input_names[0]\n",
    "# index = model.input_names.index(input_name)\n",
    "# qmodel.inputs[index].set_shape([1, 32, 32, 3])\n",
    "\n",
    "\n",
    "# converter = tf.lite.TFLiteConverter.from_keras_model(qmodel) \n",
    "# converter.optimizations = [tf.lite.Optimize.DEFAULT]\n",
    "# tflite_qmodel = converter.convert()\n",
    "# fname = \"bwae_qat2.tflite\"\n",
    "# open(fname, 'wb').write(tflite_qmodel)"
   ]
  },
  {
   "cell_type": "markdown",
   "metadata": {},
   "source": [
    "# Prediction of REtrained QAT\n"
   ]
  },
  {
   "cell_type": "code",
   "execution_count": null,
   "metadata": {
    "ExecuteTime": {
     "end_time": "2023-02-22T11:51:07.068506Z",
     "start_time": "2023-02-22T11:51:06.715311Z"
    }
   },
   "outputs": [],
   "source": [
    "predictions_qat2 = plot_gt_and_predictions(qmodel, test_images[:16,...], False)"
   ]
  },
  {
   "cell_type": "code",
   "execution_count": null,
   "metadata": {
    "ExecuteTime": {
     "end_time": "2023-02-22T11:51:09.105515Z",
     "start_time": "2023-02-22T11:51:07.070367Z"
    }
   },
   "outputs": [],
   "source": [
    "plot_multi_images([test_images[:16,...], predictions_float, predictions_qat, predictions_qat2])"
   ]
  },
  {
   "cell_type": "markdown",
   "metadata": {},
   "source": [
    "# Save REtrained weights\n"
   ]
  },
  {
   "cell_type": "code",
   "execution_count": null,
   "metadata": {
    "ExecuteTime": {
     "end_time": "2023-02-22T11:51:13.229200Z",
     "start_time": "2023-02-22T11:51:09.107403Z"
    }
   },
   "outputs": [],
   "source": [
    "input_name = model.input_names[0]\n",
    "index = model.input_names.index(input_name)\n",
    "qmodel.inputs[index].set_shape([1, 32, 32, 3])\n",
    "\n",
    "\n",
    "converter = tf.lite.TFLiteConverter.from_keras_model(qmodel) \n",
    "converter.optimizations = [tf.lite.Optimize.DEFAULT]\n",
    "tflite_qmodel = converter.convert()\n",
    "fname = \"bwae_qat2.tflite\"\n",
    "open(fname, 'wb').write(tflite_qmodel)"
   ]
  },
  {
   "cell_type": "code",
   "execution_count": null,
   "metadata": {},
   "outputs": [],
   "source": []
  }
 ],
 "metadata": {
  "kernelspec": {
   "display_name": "Python 3",
   "language": "python",
   "name": "python3"
  },
  "language_info": {
   "codemirror_mode": {
    "name": "ipython",
    "version": 3
   },
   "file_extension": ".py",
   "mimetype": "text/x-python",
   "name": "python",
   "nbconvert_exporter": "python",
   "pygments_lexer": "ipython3",
   "version": "3.8.10"
  },
  "varInspector": {
   "cols": {
    "lenName": 16,
    "lenType": 16,
    "lenVar": 40
   },
   "kernels_config": {
    "python": {
     "delete_cmd_postfix": "",
     "delete_cmd_prefix": "del ",
     "library": "var_list.py",
     "varRefreshCmd": "print(var_dic_list())"
    },
    "r": {
     "delete_cmd_postfix": ") ",
     "delete_cmd_prefix": "rm(",
     "library": "var_list.r",
     "varRefreshCmd": "cat(var_dic_list()) "
    }
   },
   "position": {
    "height": "614px",
    "left": "1529px",
    "right": "20px",
    "top": "124px",
    "width": "366px"
   },
   "types_to_exclude": [
    "module",
    "function",
    "builtin_function_or_method",
    "instance",
    "_Feature"
   ],
   "window_display": true
  }
 },
 "nbformat": 4,
 "nbformat_minor": 2
}
